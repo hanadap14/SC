{
  "nbformat": 4,
  "nbformat_minor": 0,
  "metadata": {
    "colab": {
      "name": "Lab Quiz SC.ipynb",
      "provenance": [],
      "collapsed_sections": []
    },
    "kernelspec": {
      "name": "python3",
      "display_name": "Python 3"
    },
    "language_info": {
      "name": "python"
    }
  },
  "cells": [
    {
      "cell_type": "markdown",
      "source": [
        "No 1"
      ],
      "metadata": {
        "id": "zUr7F4JXrc_S"
      }
    },
    {
      "cell_type": "code",
      "execution_count": null,
      "metadata": {
        "id": "7q322f3jpOrY"
      },
      "outputs": [],
      "source": [
        "# nilai x\n",
        "x = [0.1, 0.2, 0.3, 0.4, 0.5, 0.6]\n",
        "\n",
        "# nilai f(x) atau y\n",
        "y = [0.09327, 0.08435, 0.07591, 0.06894, 0.05971, 0.04362]"
      ]
    },
    {
      "cell_type": "code",
      "source": [
        "# jarak antar titik sumbu x\n",
        "high = 0.1"
      ],
      "metadata": {
        "id": "ktlgK90u_JaJ"
      },
      "execution_count": null,
      "outputs": []
    },
    {
      "cell_type": "code",
      "source": [
        "z = 2*(high**3)"
      ],
      "metadata": {
        "id": "NDJNXaNs_3Cg"
      },
      "execution_count": null,
      "outputs": []
    },
    {
      "cell_type": "code",
      "source": [
        "# formula\n",
        "f1 = ((3 * y[0]) - (14 * y[1]) + (26 * y[2]) - (24 * y[3]) + (11 * y[4]) - (2 * y[5])) / h**4\n",
        "f2 = ((3 * y[0]) - (14 * y[1]) + (24 * y[2]) - (18*y[3]) + (5*y[4]))/div\n"
      ],
      "metadata": {
        "id": "Y_DcTfF5rIIg"
      },
      "execution_count": null,
      "outputs": []
    },
    {
      "cell_type": "code",
      "source": [
        "# menampilkan hasil\n",
        "print(\"\\nSolusi jawaban dari nomor 1 adalah : \\n\")\n",
        "print(\"f''''(0.1)  = {f1}\")\n",
        "print(\"f'''(0.5)   = {f2}\\n\")"
      ],
      "metadata": {
        "colab": {
          "base_uri": "https://localhost:8080/"
        },
        "id": "K6ftKC4ZrNXL",
        "outputId": "20f68e14-7db2-44e7-eede-644418ee72e0"
      },
      "execution_count": null,
      "outputs": [
        {
          "output_type": "stream",
          "name": "stdout",
          "text": [
            "\n",
            "Solusi jawaban dari nomor 1 adalah : \n",
            "\n",
            "f''''(0.1)  = {f1}\n",
            "f'''(0.5)   = {f2}\n",
            "\n"
          ]
        }
      ]
    },
    {
      "cell_type": "markdown",
      "source": [
        "No 2a"
      ],
      "metadata": {
        "id": "FEVN2m4trfqG"
      }
    },
    {
      "cell_type": "code",
      "source": [
        "import numpy as np"
      ],
      "metadata": {
        "id": "AkODgb74s7AU"
      },
      "execution_count": null,
      "outputs": []
    },
    {
      "cell_type": "code",
      "source": [
        "x0 = 0\n",
        "y0 = 2\n",
        "yx = 0.2\n",
        "deleteX = 0.2\n",
        "orde = 4"
      ],
      "metadata": {
        "id": "6QWctOHWs8NK"
      },
      "execution_count": null,
      "outputs": []
    },
    {
      "cell_type": "code",
      "source": [
        "x = np.linspace(x0, yx, orde)"
      ],
      "metadata": {
        "id": "Y5ikm2aWtApu"
      },
      "execution_count": null,
      "outputs": []
    },
    {
      "cell_type": "code",
      "source": [
        "def f(x, y):\n",
        "  return 2*x**2-8*y"
      ],
      "metadata": {
        "id": "MhlhK2lwtDDe"
      },
      "execution_count": null,
      "outputs": []
    },
    {
      "cell_type": "code",
      "source": [
        "y = np.zeros([orde])"
      ],
      "metadata": {
        "id": "U-v6qWVVtF7Q"
      },
      "execution_count": null,
      "outputs": []
    },
    {
      "cell_type": "code",
      "source": [
        "y[0] = y0"
      ],
      "metadata": {
        "id": "3s_K3nWntLjy"
      },
      "execution_count": null,
      "outputs": []
    },
    {
      "cell_type": "code",
      "source": [
        "for i in range(1, orde):\n",
        "  k1 = deleteX * f(x[i-1], y0)\n",
        "  k2 = deleteX * f(x[i-1] + deleteX/2, y0 + k1/2)\n",
        "  k3 = deleteX * f(x[i-1] + deleteX/2, y0 + k2/2)\n",
        "  k4 = deleteX * f(x[i-1] + deleteX, y0 + k3)\n",
        "  y[i] = y0 + (k1 + 2 * k2 + 2 * k3 + k4)/6\n",
        "  y0 = y[i]"
      ],
      "metadata": {
        "id": "PC_PC9wbtOZd"
      },
      "execution_count": null,
      "outputs": []
    },
    {
      "cell_type": "code",
      "source": [
        "print(\"\\nResult Taylor 4 Orde: \")\n",
        "print(\"\\n   x\\t|   y\")\n",
        "print(\"----------------\")"
      ],
      "metadata": {
        "colab": {
          "base_uri": "https://localhost:8080/"
        },
        "id": "Wdg68obWtR7K",
        "outputId": "9bc82fb2-eacd-49c5-c566-e580e59c9b2c"
      },
      "execution_count": null,
      "outputs": [
        {
          "output_type": "stream",
          "name": "stdout",
          "text": [
            "\n",
            "Result Taylor 4 Orde: \n",
            "\n",
            "   x\t|   y\n",
            "----------------\n"
          ]
        }
      ]
    },
    {
      "cell_type": "code",
      "source": [
        "for i in range(orde):\n",
        "    print(round(x[i], 4), \"\\t|\", round(y[i], 4))\n",
        "\n",
        "print(\"\\n\")"
      ],
      "metadata": {
        "colab": {
          "base_uri": "https://localhost:8080/"
        },
        "id": "vB32OtO2tWDd",
        "outputId": "5f739267-4bc7-4d26-acd8-0ea13dcfe346"
      },
      "execution_count": null,
      "outputs": [
        {
          "output_type": "stream",
          "name": "stdout",
          "text": [
            "0.0 \t| 2.0\n",
            "0.0667 \t| 0.5449\n",
            "0.1333 \t| 0.1558\n",
            "0.2 \t| 0.0567\n",
            "\n",
            "\n"
          ]
        }
      ]
    },
    {
      "cell_type": "markdown",
      "source": [
        "No 2b"
      ],
      "metadata": {
        "id": "wddGGiXLtiqB"
      }
    },
    {
      "cell_type": "code",
      "source": [
        "import numpy as np\n",
        "import math"
      ],
      "metadata": {
        "id": "OvRuyNqZtkEl"
      },
      "execution_count": null,
      "outputs": []
    },
    {
      "cell_type": "code",
      "source": [
        "x = 0\n",
        "y = 2\n",
        "\n",
        "y1 = 0.2\n",
        "h = 0.2"
      ],
      "metadata": {
        "id": "sXM674lttsQR"
      },
      "execution_count": null,
      "outputs": []
    },
    {
      "cell_type": "code",
      "source": [
        "k1 = (2*(x**2)) - (8*y)\n",
        "k2 = (4*x) - 8*(k1)\n",
        "k3 = 4-(32*x) + (64*k1)\n",
        "k4 = (-32) + (256*x) - (512*k1)\n",
        "\n",
        "#f(x) formula\n",
        "def y2(y, h):\n",
        "  return y + (k1*h) + (((h**2)/np.math.factorial(2))*k2) + (((h**3)/np.math.factorial(3))*k3) + (((h**4)/np.math.factorial(4))*k4)\n",
        "\n",
        "ty = y2(2,0.2)\n",
        "print(\">>> y(0.2) = \", ty)\n"
      ],
      "metadata": {
        "colab": {
          "base_uri": "https://localhost:8080/"
        },
        "id": "e_WvHbChtzD4",
        "outputId": "a0a1d5e5-5160-4f76-9060-9205ca5c2e64"
      },
      "execution_count": null,
      "outputs": [
        {
          "output_type": "stream",
          "name": "stdout",
          "text": [
            ">>> y(0.2) =  0.5440000000000002\n"
          ]
        }
      ]
    },
    {
      "cell_type": "code",
      "source": [
        "e = 2.71828\n",
        "\n",
        "def err(e, h):\n",
        "  return ((31/32) * (e)**(-4 * h)) + ((1/4) * (h**2)) - ((1/8) * h) + (1/32)\n",
        "\n",
        "trueError = err(e, h) - ty\n",
        "\n",
        "print(\"Estimated Error Is = \", err(e, h))\n",
        "print(\"True Error Is      = \", trueError)"
      ],
      "metadata": {
        "colab": {
          "base_uri": "https://localhost:8080/"
        },
        "id": "UiKigeCnt5ob",
        "outputId": "d62aaf13-b80c-4ecf-af05-98661c549aa7"
      },
      "execution_count": null,
      "outputs": [
        {
          "output_type": "stream",
          "name": "stdout",
          "text": [
            "Estimated Error Is =  0.45153766822644187\n",
            "True Error Is      =  -0.09246233177355828\n"
          ]
        }
      ]
    }
  ]
}